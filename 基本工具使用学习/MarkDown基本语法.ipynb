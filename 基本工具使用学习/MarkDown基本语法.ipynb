{
 "cells": [
  {
   "cell_type": "markdown",
   "metadata": {},
   "source": [
    "# 标题\n",
    "\n",
    "在想要设置为标题的文字前面加#来表示\n",
    "一个#是一级标题，二个#是二级标题，以此类推。支持六级标题。"
   ]
  },
  {
   "cell_type": "markdown",
   "metadata": {},
   "source": [
    "# 字体\n",
    "\n",
    "要加粗的文字左右分别用两个*号包起来\n",
    "要倾斜的文字左右分别用一个*号包起来\n",
    "要倾斜和加粗的文字左右分别用三个*号包起来\n",
    "要加删除线的文字左右分别用两个~~包起来  \n",
    "\n",
    "示例如下："
   ]
  },
  {
   "cell_type": "markdown",
   "metadata": {},
   "source": [
    "*这是斜体字*\n",
    "\n",
    "**这是加粗字体**\n",
    "\n",
    "***这是加粗并斜体字***\n",
    "\n",
    "~~这是删除字体~~"
   ]
  },
  {
   "cell_type": "markdown",
   "metadata": {},
   "source": [
    "# 引用\n",
    "在引用的文字前加>即可。引用也可以嵌套，如加两个>>三个>>>\n",
    "n个..."
   ]
  },
  {
   "cell_type": "markdown",
   "metadata": {},
   "source": [
    "示例：\n",
    ">这是引用字体\n",
    ">>这是引用中引用"
   ]
  },
  {
   "cell_type": "markdown",
   "metadata": {},
   "source": [
    "# 分割线\n",
    "三个或者三个以上的 - 或者 * 都可以。\n",
    "\n",
    "示例：\n",
    "\n",
    "***\n",
    "\n",
    "***\n",
    "\n",
    "---\n"
   ]
  },
  {
   "cell_type": "markdown",
   "metadata": {},
   "source": [
    "# 图片\n",
    "\n",
    "最简单的方法引用图像就是直接使用导航栏的图片标志，上传**本地图片** jupyter中没有找到该导航功能。\n",
    "\n",
    "另一种上传本地图片的方式如下：语法与超链接类似，但是前面添加一个**!**而已\n",
    "\n",
    "![测试图片](Image/testPic.png)\n",
    "\n"
   ]
  },
  {
   "cell_type": "markdown",
   "metadata": {},
   "source": [
    "# 超链接\n",
    "\n",
    "语法为：[超链接名](www.xxx.com)\n",
    "\n",
    "示例如下：\n",
    "\n",
    "[百度](www.baidu.com)\n",
    "\n",
    "[IOE](www.ioe.ac.cn)"
   ]
  },
  {
   "cell_type": "markdown",
   "metadata": {},
   "source": [
    "# 列表\n",
    "\n",
    "无序列表：\n",
    "\n",
    "语法：无序列表用 - + * 任何一种都可以\n",
    "\n",
    "有序列表：\n",
    "\n",
    "语法：数字加. 注意序号内容之间要有空格\n",
    "\n",
    "列表嵌套：\n",
    "\n",
    "语法：上一级列表和下一级列表之间加三个空格即可 同时无序和有序之间也可以相互嵌套\n",
    "\n",
    "示例如下：\n",
    "\n",
    "* 这是无序一级列表\n",
    "* 这是无序一级列表\n",
    "   * 这是无序二级列表\n",
    "   * 这是无序二级列表\n",
    "* 这是无序一级列表\n",
    "\n",
    "\n",
    "1. 这是有序一级列表\n",
    "   1. 这是有序二级列表\n",
    "2. 这是有序二级列表"
   ]
  },
  {
   "cell_type": "markdown",
   "metadata": {},
   "source": [
    "# 代码\n",
    "\n",
    "语法：\n",
    "\n",
    "* 单行代码：代码之间分别用一个反引号包起来 **反引号是键盘~所在的字符**\n",
    "* 代码块：代码之间分别用三个反引号包起来，且两边的反引号单独占一行\n",
    "\n",
    "示例如下：\n",
    "\n",
    "`create a database here.`\n",
    "\n",
    "```\n",
    "functin(){\n",
    "echo \"这是演示代码块\"\n",
    "}\n",
    "```\n",
    "\n",
    " `代码内容`\n"
   ]
  },
  {
   "cell_type": "markdown",
   "metadata": {},
   "source": [
    "# 表格\n",
    "\n",
    "语法：第二行分割表头和内容。有一个就行，为了对齐，多加了几个\n",
    "\n",
    "表头|表头|表头\n",
    "---|:---:|:--\n",
    "内容| 内容|内容\n",
    "内容|内容|内容"
   ]
  }
 ],
 "metadata": {
  "kernelspec": {
   "display_name": "Python 3",
   "language": "python",
   "name": "python3"
  },
  "language_info": {
   "codemirror_mode": {
    "name": "ipython",
    "version": 3
   },
   "file_extension": ".py",
   "mimetype": "text/x-python",
   "name": "python",
   "nbconvert_exporter": "python",
   "pygments_lexer": "ipython3",
   "version": "3.6.5"
  },
  "toc": {
   "base_numbering": 1,
   "nav_menu": {},
   "number_sections": false,
   "sideBar": true,
   "skip_h1_title": false,
   "title_cell": "Table of Contents",
   "title_sidebar": "Contents",
   "toc_cell": false,
   "toc_position": {},
   "toc_section_display": true,
   "toc_window_display": true
  }
 },
 "nbformat": 4,
 "nbformat_minor": 2
}
